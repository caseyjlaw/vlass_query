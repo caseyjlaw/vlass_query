{
 "cells": [
  {
   "cell_type": "code",
   "execution_count": 1,
   "metadata": {},
   "outputs": [],
   "source": [
    "import numpy as np\n",
    "import astropy.units as u\n",
    "import astropy.coordinates as coords\n",
    "import astropy.time\n",
    "import astropy.cosmology as cosmo\n",
    "from astropy.visualization import astropy_mpl_style, quantity_support\n",
    "\n",
    "import matplotlib.pyplot as plt\n",
    "plt.style.use(astropy_mpl_style)\n",
    "%matplotlib inline"
   ]
  },
  {
   "cell_type": "markdown",
   "metadata": {},
   "source": [
    "## Radio source\n",
    "Ofek (2017) identified a sample of ~100 FIRST sources aligned with nearby galaxies and luminosities comparable to the persistent radio source at FRB 121102. 11 of these were not nuclear, so are less likely to be AGN. Chance of true association is high for most of the sample of 11 sources.\n",
    "\n",
    "Ofek catalog: http://cdsarc.u-strasbg.fr/viz-bin/nph-Cat/html?J%2FApJ%2F846%2F44/table1.dat"
   ]
  },
  {
   "cell_type": "raw",
   "metadata": {},
   "source": [
    "FIRST entry:\n",
    "Search     RA (2000)   Dec (2000)   Side   Peak     Int.     RMS   Deconv.  Deconv.  Deconv  Meas.     Meas.      Meas.    Field Name   SDSS Closest SDSS  SD 2MAS Closest 2MASS  Mean      Mean      RMS    \n",
    "NED Opt FRST | Distance                            lobe   Flux     Flux    (mJy/   MajAx    MinAx   PosAng  MajAx     MinAx     PosAng                 Mtch  SDSS    i    Cl Mtch 2MASS    K     Epoch    Epoch     Epoch   \n",
    "SrchImg Img  | (arcsec)                            Prob  (mJy/bm)  (mJy)   beam)  (arcsec) (arcsec) (deg)  (arcsec)  (arcsec)  (degrees)               <8\"  Sep(\")  (mag)    <8\"  Sep(\")  (mag) (year)    (MJD)     (MJD)   \n",
    "0.0  14 19 18.855 +39 40 36.03 0.014    21.11    20.76  0.154     0.16     0.00    0.0      5.40      5.31        0.0 14180+39393E    1    0.50 18.83  g    0   99.00 99.00 1994.631 2449583.7     2.301\n",
    "\n",
    "\n",
    "NVSS entry:\n",
    "\n",
    "RA(2000)  Dec(2000) Dist(\") Flux  Major Minor  PA  Res P_Flux P_ang  Field    X_pix  Y_pix\n",
    "h  m    s    d  m   s   Ori     mJy   \"     \"     deg       mJy  deg\n",
    "14 19 18.85 +39 40 36.6  0.57   18.5  22.9 <26.6  88.8      0.51  77.7 C1420P40  543.67  435.46\n",
    "       0.09         1.1     5    1.0   4.4        21.4      0.56  18.8"
   ]
  },
  {
   "cell_type": "markdown",
   "metadata": {},
   "source": [
    "## Optical counterpart"
   ]
  },
  {
   "cell_type": "markdown",
   "metadata": {},
   "source": [
    "0.5\" offset from z=0.01957 galaxy.\n",
    "\n",
    "Image and spectrum from SDSS\n",
    "http://skyserver.sdss.org/dr14/en/tools/quicklook/summary.aspx?ra=214.82854&dec=39.6768\n",
    "\n",
    "TODO: add visualizations here"
   ]
  },
  {
   "cell_type": "code",
   "execution_count": null,
   "metadata": {},
   "outputs": [],
   "source": []
  },
  {
   "cell_type": "markdown",
   "metadata": {},
   "source": [
    "## VLASS"
   ]
  },
  {
   "cell_type": "markdown",
   "metadata": {},
   "source": [
    "We are searching for VLASS counterparts to all of the Ofek catalog. About 2/3 or the Ofek catalog have VLASS coverage.\n",
    "\n",
    "Five of the ten \"interesting\" sources, have VLASS coverage. Four of those VLASS images show a compact radio source at the location of the Ofek source. The flux of those VLASS 3 GHz sources is systematically less than that of FIRST, but consistent with a spectral index of -1 to -2.\n",
    "\n",
    "One of the interesting sources with VLASS coverage, J141918.855+394036.03, has no detectable flux to a limit of roughly 100 microJy at 3 GHz."
   ]
  },
  {
   "cell_type": "code",
   "execution_count": 2,
   "metadata": {},
   "outputs": [],
   "source": [
    "t_first = 1994.631 # listed in catalog\n",
    "t_nvss = 1995.4 # guess from archive\n",
    "t_vlass = 2018.0 # guess from timestamp on file\n",
    "s_first = 21.1 # millijansky\n",
    "s_nvss = 18.5\n",
    "s_vlass = 0.1 # # rough limit, TODO: calculate carefully\n",
    "f_first = 1.4 # gigahertz\n",
    "f_nvss = 1.4\n",
    "f_vlass = 3.0"
   ]
  },
  {
   "cell_type": "markdown",
   "metadata": {},
   "source": [
    "#### Spectral index limit"
   ]
  },
  {
   "cell_type": "code",
   "execution_count": 3,
   "metadata": {},
   "outputs": [
    {
     "name": "stdout",
     "output_type": "stream",
     "text": [
      "-7.02214523315296 -6.849601737971776\n"
     ]
    }
   ],
   "source": [
    "alpha_fv = np.log10(s_first/s_vlass)/np.log10(f_first/f_vlass)\n",
    "alpha_nv = np.log10(s_nvss/s_vlass)/np.log10(f_nvss/f_vlass)\n",
    "print(alpha_fv, alpha_nv)"
   ]
  },
  {
   "cell_type": "markdown",
   "metadata": {},
   "source": [
    "TODO: add spectral index from comparison to TGSS http://tgssadr.strw.leidenuniv.nl/doku.php?id=spidx"
   ]
  },
  {
   "cell_type": "code",
   "execution_count": 4,
   "metadata": {
    "scrolled": false
   },
   "outputs": [
    {
     "data": {
      "image/png": "[encoded data removed]",
      "text/plain": [
       "<Figure size 432x288 with 1 Axes>"
      ]
     },
     "metadata": {},
     "output_type": "display_data"
    }
   ],
   "source": [
    "# TODO: add errors\n",
    "with quantity_support():\n",
    "    plt.plot([t_first, t_nvss]*u.year, [s_first, s_nvss]*u.milliJansky, '.')\n",
    "    plt.plot([t_vlass]*u.year, [s_vlass]*u.milliJansky, 'v')"
   ]
  },
  {
   "cell_type": "markdown",
   "metadata": {},
   "source": [
    "It's gone!"
   ]
  },
  {
   "cell_type": "markdown",
   "metadata": {},
   "source": [
    "## Radio supernova modeling"
   ]
  },
  {
   "cell_type": "code",
   "execution_count": 5,
   "metadata": {},
   "outputs": [],
   "source": [
    "def lc_fong(fp, t0, tdec, p=2.4):\n",
    "    \"\"\" Decaying lightcurve as in Fong et al (2018).\n",
    "    Short GRB from NS-NS merger.\n",
    "    https://arxiv.org/pdf/1607.00416.pdf\n",
    "    \"\"\"\n",
    "\n",
    "    timearr = np.linspace(t_first, t_vlass, 100)\n",
    "    fluxarr = np.zeros_like(timearr)\n",
    "\n",
    "    # early evolution\n",
    "    t1 = np.where(timearr-t0 < tdec)\n",
    "    fluxarr[t1] = fp*((timearr[t1]-t0)/tdec)**3\n",
    "\n",
    "    # late evolution\n",
    "    t2 = np.where(timearr-t0 >= tdec)\n",
    "    fluxarr[t2] = fp*((timearr[t2]-t0)/tdec)**-((15*p-21)/10)\n",
    "\n",
    "    return timearr, fluxarr"
   ]
  },
  {
   "cell_type": "code",
   "execution_count": 6,
   "metadata": {},
   "outputs": [
    {
     "data": {
      "image/png": "[encoded data removed]",
      "text/plain": [
       "<Figure size 432x288 with 1 Axes>"
      ]
     },
     "metadata": {},
     "output_type": "display_data"
    }
   ],
   "source": [
    "# TODO: add spectral index correction\n",
    "\n",
    "with quantity_support():\n",
    "    plt.plot([t_first, t_nvss]*u.year, [s_first, s_nvss]*u.milliJansky, '.')\n",
    "    plt.plot([t_vlass]*u.year, [s_vlass]*u.milliJansky, 'v')\n",
    "\n",
    "    times, fluxes = lc_fong(s_first*3, 1993.8, 0.5)\n",
    "    plt.plot(times*u.year, fluxes*u.millijansky)\n",
    "    plt.loglog()"
   ]
  },
  {
   "cell_type": "markdown",
   "metadata": {},
   "source": [
    "#### It is really luminous"
   ]
  },
  {
   "cell_type": "code",
   "execution_count": 7,
   "metadata": {},
   "outputs": [],
   "source": [
    "co = cosmo.Planck15\n",
    "d_lum = co.luminosity_distance(0.01957)\n",
    "lum = (s_first*1e-3)*1e-23 * 4*np.pi*d_lum.to_value(u.cm)**2\n",
    "nulnu = lum*f_first*1e9"
   ]
  },
  {
   "cell_type": "code",
   "execution_count": 8,
   "metadata": {},
   "outputs": [
    {
     "name": "stdout",
     "output_type": "stream",
     "text": [
      "*Minimum* radio luminosity: L=1.9507261551882188e+29 erg/s/Hz, nuLnu = 2.7310166172635063e+38 erg/s\n"
     ]
    }
   ],
   "source": [
    "print(\"*Minimum* radio luminosity: L={0} erg/s/Hz, nuLnu = {1} erg/s\".format(lum, nulnu))"
   ]
  },
  {
   "attachments": {},
   "cell_type": "markdown",
   "metadata": {},
   "source": [
    "Compare to Kamble et al (2014), on VLASS discovery of radio supernovae.\n",
    "<img src=\"kamble.png\" width=800>"
   ]
  },
  {
   "cell_type": "markdown",
   "metadata": {},
   "source": [
    "Compare to Metzger et al (2018), on rates and lightcurves or radio transients.\n",
    "<img src=\"metzger.png\" width=800>"
   ]
  },
  {
   "cell_type": "markdown",
   "metadata": {},
   "source": [
    "#### Luminosity and time scale consistent with off-axis LGRB!"
   ]
  },
  {
   "cell_type": "markdown",
   "metadata": {},
   "source": [
    "## Next steps"
   ]
  },
  {
   "cell_type": "markdown",
   "metadata": {},
   "source": [
    "* Lightcurve modeling with spectral dependence\n",
    "* Include models for other kinds of afterglows (or more general model?)\n",
    "* Constrain L vs dt space to classify on Metzger plot (see above)"
   ]
  },
  {
   "cell_type": "code",
   "execution_count": null,
   "metadata": {},
   "outputs": [],
   "source": []
  },
  {
   "cell_type": "markdown",
   "metadata": {},
   "source": [
    "## Other resources"
   ]
  },
  {
   "cell_type": "markdown",
   "metadata": {},
   "source": [
    "TGSS: http://tgssadr.strw.leidenuniv.nl/doku.php?id=spidx"
   ]
  },
  {
   "cell_type": "markdown",
   "metadata": {},
   "source": [
    "## References"
   ]
  },
  {
   "cell_type": "markdown",
   "metadata": {},
   "source": [
    "Brunthaler et al radio discovery of SN in M82: https://arxiv.org/pdf/0904.2388.pdf\n",
    "Metzger, Williams and Berger on rates and lightcurves of radio transients: https://arxiv.org/pdf/1502.01350.pdf\n",
    "Fong et al on sGRB radio afterglows: https://arxiv.org/pdf/1502.01350.pdf"
   ]
  },
  {
   "cell_type": "code",
   "execution_count": null,
   "metadata": {},
   "outputs": [],
   "source": []
  }
 ],
 "metadata": {
  "kernelspec": {
   "display_name": "Python [conda env:py36]",
   "language": "python",
   "name": "conda-env-py36-py"
  },
  "language_info": {
   "codemirror_mode": {
    "name": "ipython",
    "version": 3
   },
   "file_extension": ".py",
   "mimetype": "text/x-python",
   "name": "python",
   "nbconvert_exporter": "python",
   "pygments_lexer": "ipython3",
   "version": "3.6.5"
  }
 },
 "nbformat": 4,
 "nbformat_minor": 2
}
