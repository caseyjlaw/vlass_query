{
 "cells": [
  {
   "cell_type": "code",
   "execution_count": 1,
   "metadata": {},
   "outputs": [],
   "source": [
    "import numpy as np\n",
    "import astropy.units as u\n",
    "import astropy.coordinates as coords\n",
    "import astropy.time\n",
    "import astropy.cosmology as cosmo\n",
    "from astropy.visualization import astropy_mpl_style, quantity_support\n",
    "\n",
    "import matplotlib.pyplot as plt\n",
    "plt.style.use(astropy_mpl_style)\n",
    "%matplotlib inline"
   ]
  },
  {
   "cell_type": "markdown",
   "metadata": {},
   "source": [
    "## Radio source\n",
    "Ofek (2017) identified a sample of ~100 FIRST sources aligned with nearby galaxies and luminosities comparable to the persistent radio source at FRB 121102. 11 of these were not nuclear, so are less likely to be AGN. Chance of true association is high for most of the sample of 11 sources.\n",
    "\n",
    "Ofek catalog: http://cdsarc.u-strasbg.fr/viz-bin/nph-Cat/html?J%2FApJ%2F846%2F44/table1.dat"
   ]
  },
  {
   "cell_type": "raw",
   "metadata": {},
   "source": [
    "FIRST entry:\n",
    "Search     RA (2000)   Dec (2000)   Side   Peak     Int.     RMS   Deconv.  Deconv.  Deconv  Meas.     Meas.      Meas.    Field Name   SDSS Closest SDSS  SD 2MAS Closest 2MASS  Mean      Mean      RMS    \n",
    "NED Opt FRST | Distance                            lobe   Flux     Flux    (mJy/   MajAx    MinAx   PosAng  MajAx     MinAx     PosAng                 Mtch  SDSS    i    Cl Mtch 2MASS    K     Epoch    Epoch     Epoch   \n",
    "SrchImg Img  | (arcsec)                            Prob  (mJy/bm)  (mJy)   beam)  (arcsec) (arcsec) (deg)  (arcsec)  (arcsec)  (degrees)               <8\"  Sep(\")  (mag)    <8\"  Sep(\")  (mag) (year)    (MJD)     (MJD)   \n",
    "0.0  14 19 18.855 +39 40 36.03 0.014    21.11    20.76  0.154     0.16     0.00    0.0      5.40      5.31        0.0 14180+39393E    1    0.50 18.83  g    0   99.00 99.00 1994.631 2449583.7     2.301\n",
    "\n",
    "\n",
    "NVSS entry:\n",
    "\n",
    "RA(2000)  Dec(2000) Dist(\") Flux  Major Minor  PA  Res P_Flux P_ang  Field    X_pix  Y_pix\n",
    "h  m    s    d  m   s   Ori     mJy   \"     \"     deg       mJy  deg\n",
    "14 19 18.85 +39 40 36.6  0.57   18.5  22.9 <26.6  88.8      0.51  77.7 C1420P40  543.67  435.46\n",
    "       0.09         1.1     5    1.0   4.4        21.4      0.56  18.8"
   ]
  },
  {
   "cell_type": "markdown",
   "metadata": {},
   "source": [
    "## Optical counterpart"
   ]
  },
  {
   "cell_type": "markdown",
   "metadata": {},
   "source": [
    "0.5\" offset from z=0.01957 galaxy.\n",
    "\n",
    "Image and spectrum from SDSS\n",
    "http://skyserver.sdss.org/dr14/en/tools/quicklook/summary.aspx?ra=214.82854&dec=39.6768\n",
    "\n",
    "TODO: add visualizations here"
   ]
  },
  {
   "cell_type": "markdown",
   "metadata": {},
   "source": [
    "## VLASS"
   ]
  },
  {
   "cell_type": "markdown",
   "metadata": {},
   "source": [
    "We are searching for VLASS counterparts to all of the Ofek catalog. About 2/3 or the Ofek catalog have VLASS coverage.\n",
    "\n",
    "Five of the ten \"interesting\" sources, have VLASS coverage. Four of those VLASS images show a compact radio source at the location of the Ofek source. The flux of those VLASS 3 GHz sources is systematically less than that of FIRST, but consistent with a spectral index of -1 to -2.\n",
    "\n",
    "One of the interesting sources with VLASS coverage, J141918.855+394036.03, has no detectable flux to a limit of roughly 100 microJy at 3 GHz."
   ]
  },
  {
   "cell_type": "code",
   "execution_count": 2,
   "metadata": {},
   "outputs": [],
   "source": [
    "t_first = 1994.63 # listed in catalog\n",
    "t_nvss = 1995.32 # project AC0308 observed late-april/early-may\n",
    "t_vlass = 2017.78 # listed in pipeline log\n",
    "s_first = 21.1 # millijansky\n",
    "es_first = 0.16 # millijansky\n",
    "s_nvss = 18.5\n",
    "es_nvss = 1.0\n",
    "s_vlass = 3*0.122\n",
    "f_first = 1.4 # gigahertz\n",
    "f_nvss = 1.4\n",
    "f_vlass = 3.0"
   ]
  },
  {
   "cell_type": "markdown",
   "metadata": {},
   "source": [
    "#### Archival S-band imaging (15A-033)\n",
    "S-band data observed 2015-May-11 and prepared Jamie Farnes.\n",
    "~2 minute observation from 2-4 GHz.\n",
    "Image dominated by bright, complex source at phase center, so some residual noise."
   ]
  },
  {
   "cell_type": "code",
   "execution_count": 3,
   "metadata": {},
   "outputs": [],
   "source": [
    "tt = astropy.time.Time('2015-05-11')\n",
    "t_farnes = tt.decimalyear\n",
    "f_farnes = 3.  # GHz\n",
    "s_farnes = 0.123  # mJy; 3 sigma upper limit"
   ]
  },
  {
   "cell_type": "markdown",
   "metadata": {},
   "source": [
    "#### Spectral index limit"
   ]
  },
  {
   "cell_type": "code",
   "execution_count": 4,
   "metadata": {},
   "outputs": [
    {
     "name": "stdout",
     "output_type": "stream",
     "text": [
      "Lower limit on 1.4 to 3 GHz spectral index: -5.31975058281455 and -6.750523017749972\n"
     ]
    }
   ],
   "source": [
    "alpha_fv = np.log10(s_first/s_vlass)/np.log10(f_first/f_vlass)\n",
    "alpha_ff = np.log10(s_first/s_farnes)/np.log10(f_first/f_farnes)\n",
    "print(\"Lower limit on 1.4 to 3 GHz spectral index: {0} and {1}\".format(alpha_fv, alpha_ff))"
   ]
  },
  {
   "cell_type": "markdown",
   "metadata": {},
   "source": [
    "#### TGSS non-detection shows that no single spectral index works\n",
    "150 MHz upper limit from TGSS: http://tgssadr.strw.leidenuniv.nl/doku.php?id=spidx"
   ]
  },
  {
   "cell_type": "code",
   "execution_count": 5,
   "metadata": {},
   "outputs": [
    {
     "name": "stdout",
     "output_type": "stream",
     "text": [
      "Upper limit on 0.15 to 1.4 GHz spectral index: -0.15755979887084182\n"
     ]
    }
   ],
   "source": [
    "t_tgss = 2011  # observed \"between 2010 and 2012\"\n",
    "f_tgss = 0.15  # GHz\n",
    "s_tgss = 3*10.  # mJy; 3 sigma limit\n",
    "\n",
    "alpha_ft = np.log10(s_first/s_tgss)/np.log10(f_first/f_tgss)\n",
    "print('Upper limit on 0.15 to 1.4 GHz spectral index: {0}'.format(alpha_ft))"
   ]
  },
  {
   "cell_type": "code",
   "execution_count": 6,
   "metadata": {
    "scrolled": false
   },
   "outputs": [
    {
     "data": {
      "image/png": "[encoded data removed]",
      "text/plain": [
       "<Figure size 1080x360 with 2 Axes>"
      ]
     },
     "metadata": {},
     "output_type": "display_data"
    }
   ],
   "source": [
    "with quantity_support():\n",
    "    plt.figure(figsize=(15,5))\n",
    "    plt.subplot(121)\n",
    "    plt.errorbar([t_first, t_nvss]*u.year, [s_first, s_nvss]*u.milliJansky, yerr=[es_first, es_nvss]*u.milliJansky, fmt='r.')  # 1.4 GHz\n",
    "    plt.plot([t_vlass, t_farnes]*u.year, [s_vlass, s_farnes]*u.milliJansky, 'cv')  # 3 GHz\n",
    "    plt.plot([t_tgss]*u.year, [s_tgss]*u.milliJansky, 'yv')  # 150 MHz\n",
    "    plt.subplot(122)\n",
    "    plt.errorbar([f_first, f_nvss]*u.GHz, [s_first, s_nvss]*u.milliJansky, yerr=[es_first, es_nvss]*u.milliJansky, fmt='r.')  # 1.4 GHz\n",
    "    plt.plot([f_vlass, f_farnes]*u.GHz, [s_vlass, s_farnes]*u.milliJansky, 'cv')  # 3 GHz\n",
    "    plt.plot([f_tgss]*u.GHz, [s_tgss]*u.milliJansky, 'yv')  # 150 MHz"
   ]
  },
  {
   "cell_type": "markdown",
   "metadata": {},
   "source": [
    "It's gone!"
   ]
  },
  {
   "cell_type": "markdown",
   "metadata": {},
   "source": [
    "Other potential data sets to analyze:\n",
    "* VLA AS0249 (L-band, A-config, 86-Apr-11) -- earlier L-band really important\n",
    "* VLA AB0573 (L-band, CD-config, 91-Feb-08) -- earlier L-band really important\n",
    "* VLA AB0806 (L-band, A-config, 96-Nov-14) -- late L-band\n",
    "* VLA AL0485 (L-band, D-config, 99-Apr-13) -- late L-band\n",
    "* VLA 12B-361 (L-band, A-config, 12-Dec-24) -- late L-band\n"
   ]
  },
  {
   "cell_type": "markdown",
   "metadata": {},
   "source": [
    "## Radio supernova modeling\n",
    "\n",
    "#### It is really luminous"
   ]
  },
  {
   "cell_type": "code",
   "execution_count": 7,
   "metadata": {},
   "outputs": [],
   "source": [
    "co = cosmo.Planck15\n",
    "d_lum = co.luminosity_distance(0.01957)\n",
    "lum_minL = (s_first*1e-3)*1e-23 * 4*np.pi*d_lum.to_value(u.cm)**2\n",
    "nulnu_min = lum_minL*f_first*1e9"
   ]
  },
  {
   "cell_type": "code",
   "execution_count": 8,
   "metadata": {},
   "outputs": [
    {
     "name": "stdout",
     "output_type": "stream",
     "text": [
      "*Minimum* radio luminosity: L=1.9507261551882188e+29 erg/s/Hz, nuLnu = 2.7310166172635063e+38 erg/s\n"
     ]
    }
   ],
   "source": [
    "print(\"*Minimum* radio luminosity: L={0} erg/s/Hz, nuLnu = {1} erg/s\".format(lum_minL, nulnu_min))"
   ]
  },
  {
   "cell_type": "code",
   "execution_count": 9,
   "metadata": {},
   "outputs": [],
   "source": [
    "def lc_fong(fp, t0, tdec, p=2.4):\n",
    "    \"\"\" Lightcurve as in Fong et al (2018).\n",
    "    Short GRB from NS-NS merger.\n",
    "    https://arxiv.org/pdf/1607.00416.pdf\n",
    "    \"\"\"\n",
    "\n",
    "    timearr = np.linspace(t_first, t_vlass, 100)\n",
    "    fluxarr = np.zeros_like(timearr)\n",
    "\n",
    "    # early evolution\n",
    "    t1 = np.where(timearr-t0 < tdec)\n",
    "    fluxarr[t1] = fp*((timearr[t1]-t0)/tdec)**3\n",
    "\n",
    "    # late evolution\n",
    "    t2 = np.where(timearr-t0 >= tdec)\n",
    "    fluxarr[t2] = fp*((timearr[t2]-t0)/tdec)**-((15*p-21)/10)\n",
    "\n",
    "    return timearr, fluxarr"
   ]
  },
  {
   "cell_type": "code",
   "execution_count": 10,
   "metadata": {},
   "outputs": [],
   "source": [
    "def lc_margalit(D, nu, t0):\n",
    "    \"\"\" Decaying lightcurve of magnetar powered supernova\n",
    "    Referenced to FRB 121102 persistent source.\n",
    "    D in Gpc, nu in GHz, t in yrs.\n",
    "    assumes alpha=0 and vej=1e9, t_repeater = 30\n",
    "    \"\"\"\n",
    "    \n",
    "    timearr = np.linspace(t_first, t_vlass, 100)\n",
    "    fluxarr = np.zeros_like(timearr)\n",
    "\n",
    "    fluxarr = 240e-6 * D**(-2) * (nu/10)**(1/3) * (30/(timearr-t0))\n",
    "    \n",
    "    return timearr, fluxarr"
   ]
  },
  {
   "cell_type": "code",
   "execution_count": 11,
   "metadata": {},
   "outputs": [
    {
     "data": {
      "image/png": "[encoded data removed]",
      "text/plain": [
       "<Figure size 432x288 with 1 Axes>"
      ]
     },
     "metadata": {},
     "output_type": "display_data"
    }
   ],
   "source": [
    "# TODO: add spectral index correction\n",
    "\n",
    "with quantity_support():\n",
    "    plt.plot([t_first, t_nvss]*u.year, [s_first, s_nvss]*u.milliJansky, 'r.')\n",
    "    plt.plot([t_vlass, t_farnes]*u.year, [s_vlass, s_farnes]*u.milliJansky, 'cv')\n",
    "\n",
    "    times, fluxes = lc_fong(s_first*3, 1993.8, 0.5)\n",
    "    plt.plot(times*u.year, fluxes*u.millijansky, 'c')\n",
    "    times, fluxes = lc_margalit(d_lum.value/1e3, 1.4, 1994)\n",
    "    plt.plot(times*u.year, fluxes*u.millijansky, 'm')\n",
    "    plt.plot([t_tgss]*u.year, [s_tgss]*u.milliJansky, 'yv')\n",
    "    plt.loglog()"
   ]
  },
  {
   "attachments": {},
   "cell_type": "markdown",
   "metadata": {},
   "source": [
    "Compare to Kamble et al (2014), on VLASS discovery of radio supernovae.\n",
    "<img src=\"kamble.png\" width=\"800\">"
   ]
  },
  {
   "cell_type": "markdown",
   "metadata": {},
   "source": [
    "Compare to Metzger et al (2018), on rates and lightcurves or radio transients.\n",
    "<img src=\"metzger.png\" width=\"800\">"
   ]
  },
  {
   "cell_type": "markdown",
   "metadata": {},
   "source": [
    "#### Luminosity and time scale consistent with GRB or even more energetic phenomenon!"
   ]
  },
  {
   "cell_type": "code",
   "execution_count": 12,
   "metadata": {},
   "outputs": [
    {
     "data": {
      "text/plain": [
       "<matplotlib.legend.Legend at 0x1521ac6780>"
      ]
     },
     "execution_count": 12,
     "metadata": {},
     "output_type": "execute_result"
    },
    {
     "data": {
      "image/png": "[encoded data removed]",
      "text/plain": [
       "<Figure size 720x576 with 1 Axes>"
      ]
     },
     "metadata": {},
     "output_type": "display_data"
    }
   ],
   "source": [
    "# playing with Metzger et al (2015) plot\n",
    "\n",
    "fig = plt.figure(figsize=(10,8))\n",
    "plt.plot(500, 3e29, 'r.', label=\"Off-axis LGRB\")\n",
    "plt.plot(60, 1e30, 'c.', label=\"On-axis LGRB\")\n",
    "plt.plot(1000, 5e30, 'b.', label=\"NSM Magnetar\")\n",
    "plt.plot(100, 2e26, 'g.', label=\"RSN\")\n",
    "plt.fill_between(np.arange((t_nvss-t_first)*365.24, 3650, 10), lum_minL, 1e31, label=\"J141918\")\n",
    "plt.xlim(10, 4500)\n",
    "plt.ylim(1e26, 1e31)\n",
    "plt.loglog()\n",
    "plt.xlabel(\"dt (days)\")\n",
    "plt.ylabel(\"Luminosity (erg/s/Hz)\")\n",
    "plt.legend()"
   ]
  },
  {
   "cell_type": "markdown",
   "metadata": {},
   "source": [
    "## Next steps"
   ]
  },
  {
   "cell_type": "markdown",
   "metadata": {},
   "source": [
    "* Analyze more VLA data to fill in lightcurve (esp at L band)\n",
    "* Lightcurve modeling with spectral dependence\n",
    "* ~~Include models for other kinds of afterglows (or more general model?)~~\n",
    "* ~~Constrain L vs dt space to classify on Metzger plot~~\n",
    "* Consider rates: Ofek catalog is complete over what volume? (0.1*L_FRB121102 limit and SDSS limit)"
   ]
  },
  {
   "cell_type": "markdown",
   "metadata": {},
   "source": [
    "## References"
   ]
  },
  {
   "cell_type": "markdown",
   "metadata": {},
   "source": [
    "* Brunthaler et al radio discovery of SN in M82: https://arxiv.org/pdf/0904.2388.pdf\n",
    "* Metzger, Williams and Berger on rates and lightcurves of radio transients: https://arxiv.org/pdf/1502.01350.pdf\n",
    "* Fong et al on sGRB radio afterglows: https://arxiv.org/pdf/1502.01350.pdf\n",
    "* Margalit et al on magnetar unification: https://arxiv.org/pdf/1806.05690.pdf"
   ]
  }
 ],
 "metadata": {
  "kernelspec": {
   "display_name": "Python [conda env:py36]",
   "language": "python",
   "name": "conda-env-py36-py"
  },
  "language_info": {
   "codemirror_mode": {
    "name": "ipython",
    "version": 3
   },
   "file_extension": ".py",
   "mimetype": "text/x-python",
   "name": "python",
   "nbconvert_exporter": "python",
   "pygments_lexer": "ipython3",
   "version": "3.6.5"
  }
 },
 "nbformat": 4,
 "nbformat_minor": 2
}
