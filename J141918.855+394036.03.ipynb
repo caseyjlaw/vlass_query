{
 "cells": [
  {
   "cell_type": "code",
   "execution_count": 1,
   "metadata": {},
   "outputs": [],
   "source": [
    "import numpy as np\n",
    "import astropy.units as u\n",
    "import astropy.coordinates as coords\n",
    "import astropy.time\n",
    "import astropy.cosmology as cosmo\n",
    "from astropy.visualization import astropy_mpl_style, quantity_support\n",
    "import pandas as pd\n",
    "import get_vlass\n",
    "\n",
    "import matplotlib.pyplot as plt\n",
    "plt.style.use(astropy_mpl_style)\n",
    "%matplotlib inline"
   ]
  },
  {
   "cell_type": "markdown",
   "metadata": {},
   "source": [
    "# Ofek catalog"
   ]
  },
  {
   "cell_type": "markdown",
   "metadata": {},
   "source": [
    "Ofek (2017) identified a sample of ~100 FIRST sources aligned with nearby galaxies and luminosities comparable to the persistent radio source at FRB 121102. 11 of these were not nuclear, so are less likely to be AGN. Chance of true association is high for most of the sample of 11 sources.\n",
    "\n",
    "Ofek catalog: http://cdsarc.u-strasbg.fr/viz-bin/nph-Cat/html?J%2FApJ%2F846%2F44/table1.dat\n",
    "\n",
    "Below, we search for VLASS counterparts to all of the Ofek catalog."
   ]
  },
  {
   "cell_type": "code",
   "execution_count": 2,
   "metadata": {},
   "outputs": [
    {
     "data": {
      "text/html": [
       "<div>\n",
       "<style scoped>\n",
       "    .dataframe tbody tr th:only-of-type {\n",
       "        vertical-align: middle;\n",
       "    }\n",
       "\n",
       "    .dataframe tbody tr th {\n",
       "        vertical-align: top;\n",
       "    }\n",
       "\n",
       "    .dataframe thead th {\n",
       "        text-align: right;\n",
       "    }\n",
       "</style>\n",
       "<table border=\"1\" class=\"dataframe\">\n",
       "  <thead>\n",
       "    <tr style=\"text-align: right;\">\n",
       "      <th></th>\n",
       "      <th>ra0</th>\n",
       "      <th>ra1</th>\n",
       "      <th>ra2</th>\n",
       "      <th>dec0</th>\n",
       "      <th>dec1</th>\n",
       "      <th>dec2</th>\n",
       "      <th>Sf</th>\n",
       "      <th>eSf</th>\n",
       "      <th>L</th>\n",
       "      <th>z</th>\n",
       "      <th>offset</th>\n",
       "    </tr>\n",
       "  </thead>\n",
       "  <tbody>\n",
       "    <tr>\n",
       "      <th>0</th>\n",
       "      <td>9</td>\n",
       "      <td>27</td>\n",
       "      <td>58.282</td>\n",
       "      <td>-2</td>\n",
       "      <td>25</td>\n",
       "      <td>58.95</td>\n",
       "      <td>2.1</td>\n",
       "      <td>0.14</td>\n",
       "      <td>0.14</td>\n",
       "      <td>0.023</td>\n",
       "      <td>14.32</td>\n",
       "    </tr>\n",
       "    <tr>\n",
       "      <th>1</th>\n",
       "      <td>10</td>\n",
       "      <td>47</td>\n",
       "      <td>26.693</td>\n",
       "      <td>6</td>\n",
       "      <td>2</td>\n",
       "      <td>47.72</td>\n",
       "      <td>2.9</td>\n",
       "      <td>0.14</td>\n",
       "      <td>0.13</td>\n",
       "      <td>0.019</td>\n",
       "      <td>5.87</td>\n",
       "    </tr>\n",
       "    <tr>\n",
       "      <th>2</th>\n",
       "      <td>23</td>\n",
       "      <td>53</td>\n",
       "      <td>51.412</td>\n",
       "      <td>7</td>\n",
       "      <td>58</td>\n",
       "      <td>35.91</td>\n",
       "      <td>4.2</td>\n",
       "      <td>0.13</td>\n",
       "      <td>0.16</td>\n",
       "      <td>0.018</td>\n",
       "      <td>42.68</td>\n",
       "    </tr>\n",
       "    <tr>\n",
       "      <th>3</th>\n",
       "      <td>14</td>\n",
       "      <td>10</td>\n",
       "      <td>43.667</td>\n",
       "      <td>8</td>\n",
       "      <td>59</td>\n",
       "      <td>29.96</td>\n",
       "      <td>3.2</td>\n",
       "      <td>0.15</td>\n",
       "      <td>0.21</td>\n",
       "      <td>0.023</td>\n",
       "      <td>17.66</td>\n",
       "    </tr>\n",
       "    <tr>\n",
       "      <th>4</th>\n",
       "      <td>10</td>\n",
       "      <td>25</td>\n",
       "      <td>26.189</td>\n",
       "      <td>17</td>\n",
       "      <td>15</td>\n",
       "      <td>47.97</td>\n",
       "      <td>2.8</td>\n",
       "      <td>0.13</td>\n",
       "      <td>0.11</td>\n",
       "      <td>0.018</td>\n",
       "      <td>7.08</td>\n",
       "    </tr>\n",
       "    <tr>\n",
       "      <th>5</th>\n",
       "      <td>10</td>\n",
       "      <td>58</td>\n",
       "      <td>23.641</td>\n",
       "      <td>24</td>\n",
       "      <td>13</td>\n",
       "      <td>55.32</td>\n",
       "      <td>2.3</td>\n",
       "      <td>0.15</td>\n",
       "      <td>0.12</td>\n",
       "      <td>0.021</td>\n",
       "      <td>29.79</td>\n",
       "    </tr>\n",
       "    <tr>\n",
       "      <th>6</th>\n",
       "      <td>13</td>\n",
       "      <td>14</td>\n",
       "      <td>41.932</td>\n",
       "      <td>29</td>\n",
       "      <td>59</td>\n",
       "      <td>59.19</td>\n",
       "      <td>2.2</td>\n",
       "      <td>0.14</td>\n",
       "      <td>0.14</td>\n",
       "      <td>0.023</td>\n",
       "      <td>20.58</td>\n",
       "    </tr>\n",
       "    <tr>\n",
       "      <th>7</th>\n",
       "      <td>16</td>\n",
       "      <td>22</td>\n",
       "      <td>44.571</td>\n",
       "      <td>32</td>\n",
       "      <td>12</td>\n",
       "      <td>59.28</td>\n",
       "      <td>2.0</td>\n",
       "      <td>0.15</td>\n",
       "      <td>0.11</td>\n",
       "      <td>0.022</td>\n",
       "      <td>0.89</td>\n",
       "    </tr>\n",
       "    <tr>\n",
       "      <th>8</th>\n",
       "      <td>14</td>\n",
       "      <td>0</td>\n",
       "      <td>38.929</td>\n",
       "      <td>-2</td>\n",
       "      <td>51</td>\n",
       "      <td>22.79</td>\n",
       "      <td>1.5</td>\n",
       "      <td>0.15</td>\n",
       "      <td>0.11</td>\n",
       "      <td>0.025</td>\n",
       "      <td>26.41</td>\n",
       "    </tr>\n",
       "    <tr>\n",
       "      <th>9</th>\n",
       "      <td>11</td>\n",
       "      <td>45</td>\n",
       "      <td>29.346</td>\n",
       "      <td>19</td>\n",
       "      <td>23</td>\n",
       "      <td>27.46</td>\n",
       "      <td>3.5</td>\n",
       "      <td>0.20</td>\n",
       "      <td>0.26</td>\n",
       "      <td>0.025</td>\n",
       "      <td>33.35</td>\n",
       "    </tr>\n",
       "    <tr>\n",
       "      <th>10</th>\n",
       "      <td>14</td>\n",
       "      <td>19</td>\n",
       "      <td>18.855</td>\n",
       "      <td>39</td>\n",
       "      <td>40</td>\n",
       "      <td>36.03</td>\n",
       "      <td>21.1</td>\n",
       "      <td>0.15</td>\n",
       "      <td>0.95</td>\n",
       "      <td>0.020</td>\n",
       "      <td>0.50</td>\n",
       "    </tr>\n",
       "  </tbody>\n",
       "</table>\n",
       "</div>"
      ],
      "text/plain": [
       "    ra0  ra1     ra2  dec0  dec1   dec2    Sf   eSf     L      z  offset\n",
       "0     9   27  58.282    -2    25  58.95   2.1  0.14  0.14  0.023   14.32\n",
       "1    10   47  26.693     6     2  47.72   2.9  0.14  0.13  0.019    5.87\n",
       "2    23   53  51.412     7    58  35.91   4.2  0.13  0.16  0.018   42.68\n",
       "3    14   10  43.667     8    59  29.96   3.2  0.15  0.21  0.023   17.66\n",
       "4    10   25  26.189    17    15  47.97   2.8  0.13  0.11  0.018    7.08\n",
       "5    10   58  23.641    24    13  55.32   2.3  0.15  0.12  0.021   29.79\n",
       "6    13   14  41.932    29    59  59.19   2.2  0.14  0.14  0.023   20.58\n",
       "7    16   22  44.571    32    12  59.28   2.0  0.15  0.11  0.022    0.89\n",
       "8    14    0  38.929    -2    51  22.79   1.5  0.15  0.11  0.025   26.41\n",
       "9    11   45  29.346    19    23  27.46   3.5  0.20  0.26  0.025   33.35\n",
       "10   14   19  18.855    39    40  36.03  21.1  0.15  0.95  0.020    0.50"
      ]
     },
     "execution_count": 2,
     "metadata": {},
     "output_type": "execute_result"
    }
   ],
   "source": [
    "ofektab = pd.read_table('ofek_table1.txt', delim_whitespace=True,\n",
    "                            na_filter=False, comment='#', index_col=False,\n",
    "                            names=['ra0', 'ra1', 'ra2', 'dec0', 'dec1', 'dec2',\n",
    "                                   'Sf', 'eSf', 'L', 'z', 'offset'])\n",
    "\n",
    "# First 11 sources are \"interesting\"\n",
    "ofektab.head(11)"
   ]
  },
  {
   "cell_type": "code",
   "execution_count": 3,
   "metadata": {},
   "outputs": [],
   "source": [
    "def jname(i):\n",
    "    row = ofektab.iloc[i]\n",
    "    return \"J{0:02d}{1:02d}{2:.3f}{3:+03d}{4:02d}{5:.2f}\".format(int(row.ra0), int(row.ra1), row.ra2, int(row.dec0), int(row.dec1), row.dec2)\n",
    "    \n",
    "def getcoord(i):    \n",
    "    row = ofektab.iloc[i]\n",
    "    co = coords.SkyCoord((row.ra0, row.ra1, row.ra2),\n",
    "                            (row.dec0, row.dec1, row.dec2),\n",
    "                            unit=(u.hour, u.deg))\n",
    "    return co\n",
    "\n",
    "def printsrc(i):\n",
    "    try:\n",
    "        filename = get_vlass.get_filename(getcoord(i))\n",
    "        print('\\t{0}'.format(filename))\n",
    "    except FileNotFoundError:\n",
    "        print('\\tNo file found')\n",
    "    return jname(i)"
   ]
  },
  {
   "cell_type": "code",
   "execution_count": 4,
   "metadata": {},
   "outputs": [],
   "source": [
    "sources_no_coverage = [3, 4, 5, 8, 9]"
   ]
  },
  {
   "cell_type": "code",
   "execution_count": 5,
   "metadata": {
    "scrolled": true
   },
   "outputs": [
    {
     "name": "stdout",
     "output_type": "stream",
     "text": [
      "Found a file VLASS1.1.ql.T10t15.J092600-023000.10.2048.v2 offset by 0.4969169377804662 deg\n",
      "\tVLASS1.1.ql.T10t15.J092600-023000.10.2048.v2\n",
      "Source 0:J092758.282-022558.95 detected\n",
      "\talpha=-0.4069526689626789\n"
     ]
    }
   ],
   "source": [
    "i=0\n",
    "name = printsrc(i)\n",
    "s0 = 1.54*u.milliJansky\n",
    "es0 = 0.16*u.milliJansky\n",
    "s0_first = ofektab.iloc[i].Sf*u.milliJansky\n",
    "es0_first = ofektab.iloc[i].eSf*u.milliJansky\n",
    "\n",
    "print('Source {0}:{1} detected'.format(i, name))\n",
    "print('\\talpha={0}'.format(np.log(s0/s0_first)/np.log(3/1.4)))"
   ]
  },
  {
   "cell_type": "code",
   "execution_count": 6,
   "metadata": {},
   "outputs": [
    {
     "name": "stdout",
     "output_type": "stream",
     "text": [
      "Found a file VLASS1.1.ql.T12t17.J104601+063000.10.2048.v1 offset by 0.5758006642656701 deg\n",
      "\tVLASS1.1.ql.T12t17.J104601+063000.10.2048.v1\n",
      "Source 1:J104726.693+060247.72 detected\n",
      "\talpha=-1.296021240720099\n"
     ]
    }
   ],
   "source": [
    "i=1\n",
    "name = printsrc(i)\n",
    "s1 = 1.08*u.milliJansky\n",
    "es1 = 0.16*u.milliJansky\n",
    "s1_first = ofektab.iloc[i].Sf*u.milliJansky\n",
    "es1_first = ofektab.iloc[i].eSf*u.milliJansky\n",
    "print('Source {0}:{1} detected'.format(i, name))\n",
    "print('\\talpha={0}'.format(np.log(s1/s1_first)/np.log(3/1.4)))"
   ]
  },
  {
   "cell_type": "code",
   "execution_count": 7,
   "metadata": {},
   "outputs": [
    {
     "name": "stdout",
     "output_type": "stream",
     "text": [
      "Found a file VLASS1.1.ql.T12t36.J235415+073000.10.2048.v1 offset by 0.4864891593536252 deg\n",
      "\tVLASS1.1.ql.T12t36.J235415+073000.10.2048.v1\n",
      "Source 2:J235351.412+075835.91 detected\n",
      "\talpha=-0.36090953067461146\n"
     ]
    }
   ],
   "source": [
    "i=2\n",
    "name = printsrc(i)\n",
    "s2 = 3.19*u.milliJansky\n",
    "es2 = 0.12*u.milliJansky\n",
    "s2_first = ofektab.iloc[i].Sf*u.milliJansky\n",
    "es2_first = ofektab.iloc[i].eSf*u.milliJansky\n",
    "print('Source {0}:{1} detected'.format(i, name))\n",
    "print('\\talpha={0}'.format(np.log(s2/s2_first)/np.log(3/1.4)))"
   ]
  },
  {
   "cell_type": "code",
   "execution_count": 8,
   "metadata": {},
   "outputs": [
    {
     "name": "stdout",
     "output_type": "stream",
     "text": [
      "Found a file VLASS1.1.ql.T18t18.J131443+293000.10.2048.v1 offset by 0.4997899328571194 deg\n",
      "\tVLASS1.1.ql.T18t18.J131443+293000.10.2048.v1\n",
      "Source 6:J131441.932+295959.19 detected\n",
      "\talpha=-0.24161096509281718\n"
     ]
    }
   ],
   "source": [
    "i=6\n",
    "name = printsrc(i)\n",
    "s6 = 1.83*u.milliJansky\n",
    "es6 = 0.11*u.milliJansky\n",
    "s6_first = ofektab.iloc[i].Sf*u.milliJansky\n",
    "es6_first = ofektab.iloc[i].eSf*u.milliJansky\n",
    "print('Source {0}:{1} detected'.format(i, name))\n",
    "print('\\talpha={0}'.format(np.log(s6/s6_first)/np.log(3/1.4)))"
   ]
  },
  {
   "cell_type": "code",
   "execution_count": 9,
   "metadata": {},
   "outputs": [
    {
     "name": "stdout",
     "output_type": "stream",
     "text": [
      "Found a file VLASS1.1.ql.T19t21.J162113+323000.10.2048.v1 offset by 0.42926338858878216 deg\n",
      "\tVLASS1.1.ql.T19t21.J162113+323000.10.2048.v1\n",
      "Source 7:J162244.571+321259.28 detected\n",
      "\talpha=-0.6378525966060973\n"
     ]
    }
   ],
   "source": [
    "i=7\n",
    "name = printsrc(i)\n",
    "s7 = 1.23*u.milliJansky\n",
    "es7 = 0.11*u.milliJansky\n",
    "s7_first = ofektab.iloc[i].Sf*u.milliJansky\n",
    "es7_first = ofektab.iloc[i].eSf*u.milliJansky\n",
    "print('Source {0}:{1} detected'.format(i, name))\n",
    "print('\\talpha={0}'.format(np.log(s7/s7_first)/np.log(3/1.4)))"
   ]
  },
  {
   "cell_type": "markdown",
   "metadata": {},
   "source": [
    "Five sources have no VLASS coverage.\n",
    "\n",
    "Five of the six with VLASS coverage have a compact radio source at the location of the Ofek/FIRST source. The flux of those VLASS 3 GHz sources is systematically less than that of FIRST with implied L/S spectral index of -0.2 to -1.2 (assuming no variability).\n",
    "\n",
    "One of the \"interesting\" sources is *really* interesting."
   ]
  },
  {
   "cell_type": "markdown",
   "metadata": {},
   "source": [
    "# J141918.855+394036.03"
   ]
  },
  {
   "cell_type": "markdown",
   "metadata": {},
   "source": [
    "## Optical counterpart"
   ]
  },
  {
   "cell_type": "markdown",
   "metadata": {},
   "source": [
    "FIRST source is offset 0.5\" from center of z=0.01957 dwarf galaxy.\n",
    "\n",
    "Pretty picture: http://legacysurvey.org/viewer-dev/?ra=214.828550&dec=39.676672\n",
    "\n",
    "Image and spectrum from SDSS:\n",
    "http://skyserver.sdss.org/dr14/en/tools/quicklook/summary.aspx?ra=214.82854&dec=39.6768\n",
    "\n",
    "SDSS photometry:\n",
    "- Ultraviolet (u):\t19.34 ± 0.04\n",
    "- Green (g):\t18.62 ± 0.01\n",
    "- Red (r):\t18.70 ± 0.02\n",
    "- Infrared - 7600 Å (i):\t18.83 ± 0.02\n",
    "- Infrared - 9100 Å (z):\t18.95 ± 0.10\n",
    "\n",
    "For distance modulus of 34.7 mag, the absolute r band magnitude is -16 mag.\n",
    "\n",
    "Paper on IR/radio sample of galaxies. Our galaxy is the only one with z<2, which makes it wildly out of place: http://adsabs.harvard.edu/abs/2014MNRAS.439..545C\n",
    "\n",
    "Pan-STARRS source \"PSO J141918.804+394035.996\":\n",
    "- Many detections across all bands.\n",
    "- Stacked location 14:19:18.805, +39:40:36.00\n",
    "- Half a magnitude fainter than SDSS in all bands. Why?\n",
    "\n",
    "Also covered by DESI DR6: http://legacysurvey.org/dr6/files/"
   ]
  },
  {
   "cell_type": "markdown",
   "metadata": {},
   "source": [
    "## VLASS"
   ]
  },
  {
   "cell_type": "code",
   "execution_count": 15,
   "metadata": {},
   "outputs": [],
   "source": [
    "t_first = 1994.63 # listed in catalog\n",
    "f_first = 1.40 # gigahertz\n",
    "#s_first = 21.1 # millijansky; catalog\n",
    "#es_first = 0.16 # millijansky; catalog\n",
    "s_first = 20.77 # millijansky; aegean peak\n",
    "es_first = 0.17 # millijansky; aegean\n",
    "\n",
    "t_nvss = 1995.32 # project AC0308 observed late-april/early-may\n",
    "f_nvss = 1.40\n",
    "#s_nvss = 18.5  # mjy; catalog\n",
    "#es_nvss = 1.0  # mjy; catalog\n",
    "s_nvss = 16.10  # mjy; aegean peak\n",
    "es_nvss = 0.51  # mjy; aegean peak\n",
    "\n",
    "t_vlass = 2017.78 # listed in pipeline log\n",
    "s_vlass = 3*0.122*1.1  # 3sigma measured on fits image with conservative 10% bump suggested by Mark and Amy\n",
    "f_vlass = 3.0"
   ]
  },
  {
   "cell_type": "markdown",
   "metadata": {},
   "source": [
    "## Farnes polarimetry project (15A-033)\n",
    "S-band data observed 2015-May-11 and prepared Jamie Farnes.\n",
    "Observations at L and S bands.\n",
    "Image dominated by bright, complex source at phase center, so some residual noise."
   ]
  },
  {
   "cell_type": "code",
   "execution_count": 16,
   "metadata": {},
   "outputs": [
    {
     "name": "stdout",
     "output_type": "stream",
     "text": [
      "Late-time spectral index:\n",
      "\t-0.6912814805311346+-0.18176020408163268 (L/S; pb issues)\n",
      "\t-1.5697309806692519+-0.21667327255912272 (Ltop/Lbottom)\n",
      "\t0.1575187814542974+-0.3636036553838382 (Stop/Sbottom)\n"
     ]
    }
   ],
   "source": [
    "t_farnes = astropy.time.Time('2015-05-11').decimalyear\n",
    "f_farnesS = 3.  # GHz\n",
    "s_farnesS = 0.7   # detection! Jamie's \"wide\" image with pbcor. 0.25 mJy in my image before pbcor\n",
    "es_farnesS = 0.05\n",
    "f_farnesL = 1.52  # GHz\n",
    "s_farnesL = 1.12  # mJy; detection! no pbcor\n",
    "es_farnesL = 0.1\n",
    "alpha_farnesLS = np.log(s_farnesL/s_farnesS)/np.log(f_farnesL/f_farnesS)\n",
    "ealpha_farnesLS = (es_farnesL/s_farnesL**2) + (es_farnesS/s_farnesS**2)\n",
    "# point-like; 2d Gaussian fit to L-band source does not resolve it\n",
    "\n",
    "# spectral index estimate within L band\n",
    "f_farnesL_bottom = 1.3  # GHz\n",
    "s_farnesL_bottom = 1.45  # mjy; casa 2d gaussian fit\n",
    "es_farnesL_bottom = 0.15  # mjy; casa 2d gaussian fit\n",
    "f_farnesL_top = 1.8  # Ghz\n",
    "s_farnesL_top = 0.87  # mjy; casa 2d gaussian fit\n",
    "es_farnesL_top = 0.11  # mjy; casa 2d gaussian fit\n",
    "alpha_farnesLL = np.log(s_farnesL_bottom/s_farnesL_top)/np.log(f_farnesL_bottom/f_farnesL_top)\n",
    "ealpha_farnesLL = (es_farnesL_top/s_farnesL_top**2) + (es_farnesL_bottom/s_farnesL_bottom**2)\n",
    "\n",
    "# spectral index estimate within S band\n",
    "f_farnesS_bottom = 2.5  # GHz\n",
    "s_farnesS_bottom = 0.79  # mjy; casa 2d gaussian fit\n",
    "es_farnesS_bottom = 0.11  # mjy; casa 2d gaussian fit\n",
    "f_farnesS_top = 3.5  # GHz\n",
    "s_farnesS_top = 0.833  # mjy; casa 2d gaussian fit\n",
    "es_farnesS_top = 0.13  # mjy; casa 2d gaussian fit\n",
    "alpha_farnesSS = np.log(s_farnesS_bottom/s_farnesS_top)/np.log(f_farnesS_bottom/f_farnesS_top)\n",
    "ealpha_farnesSS = (es_farnesS_top/s_farnesS_top**2) + (es_farnesS_bottom/s_farnesS_bottom**2)\n",
    "\n",
    "print('Late-time spectral index:')\n",
    "print('\\t{0}+-{1} (L/S; pb issues)'.format(alpha_farnesLS, ealpha_farnesLS))\n",
    "print('\\t{0}+-{1} (Ltop/Lbottom)'.format(alpha_farnesLL, ealpha_farnesLL))\n",
    "print('\\t{0}+-{1} (Stop/Sbottom)'.format(alpha_farnesSS, ealpha_farnesSS))"
   ]
  },
  {
   "cell_type": "markdown",
   "metadata": {},
   "source": [
    "## Archival VLA L-band (AB6860) "
   ]
  },
  {
   "cell_type": "code",
   "execution_count": 17,
   "metadata": {},
   "outputs": [
    {
     "name": "stdout",
     "output_type": "stream",
     "text": [
      "Potential spec index bias relative to FIRST/NVSS: 0.03%\n"
     ]
    }
   ],
   "source": [
    "t_ab6860 = astropy.time.Time('1993-11-13').decimalyear\n",
    "f_ab6860 = 1.465  # GHz\n",
    "\n",
    "\"\"\"\n",
    "s_ab6860_obs = 17  # mJy detection on image (before flux scale applied)\n",
    "es_ab6860_obs = 0.5 # statistical uncertainty from image (before flux scale)\n",
    "\n",
    "# selfcal by comparing to nvss\n",
    "s6860 = np.array([187, 98, 18, 278, 20])\n",
    "snvss = np.array([205, 116, 36, 374, 27])\n",
    "print('NVSS/AB6860 flux ratios: {0}'.format(snvss/s6860))\n",
    "s_ab6860 = snvss.mean()/s6860.mean()*s_ab6860_obs\n",
    "es_ab6860 = snvss.mean()/s6860.mean()*es_ab6860_obs * 0.1*s_ab6860  # add 10% of flux as systematic uncertainty\n",
    "print('scaled source flux: {0:.2f} +- {1:.2f}'.format(s_ab6860, es_ab6860))\n",
    "\"\"\"\n",
    "\n",
    "print('Potential spec index bias relative to FIRST/NVSS: {0:.2f}%'.format(1-(f_ab6860/f_nvss)**-0.7))\n",
    "\n",
    "# force values to this for now based on Bryan's analysis\n",
    "s_ab6860 = 20.\n",
    "es_ab6860 = 3.  # quadrature sum of stat and sys errors from various methods\n",
    "# TODO: ab6860 has P band data with limit near 3sigma*30 mJy\n",
    "f_ab6860P = 0.325  # guess\n",
    "#s_ab6860P = 45  # mJy; 3 sigma limit from Bryan's first pass\n",
    "s_ab6860P = 58*3  # mJy; 3 sigma limit # Rick's analysis assumes 1358+624 == 10 Jy at P\n",
    "alpha_ab6860 = np.log10(s_ab6860/s_ab6860P)/np.log10(f_ab6860/f_ab6860P)\n",
    "\n",
    "# TODO: add estimate of systematic flux uncertainty"
   ]
  },
  {
   "cell_type": "markdown",
   "metadata": {},
   "source": [
    "## Archival WSRT L-band (ATLAS-3D)"
   ]
  },
  {
   "cell_type": "code",
   "execution_count": 18,
   "metadata": {},
   "outputs": [],
   "source": [
    "times = ['2008-07-18', '2010-07-14', '2010-07-21', '2010-07-28',\n",
    "         '2010-08-04', '2010-08-05', '2010-08-13', '2010-09-17',\n",
    "         '2010-10-17', '2010-10-30']\n",
    "t_atlas = [astropy.time.Time(tt).decimalyear for tt in times]\n",
    "f_atlas = 1420.  # MHz\n",
    "s_atlas = [2.5, 2.1, 1.9, 1.9, 1.4, 1.3, 1.5, 1.6, 1.8, 1.9]  # mJy; peak\n",
    "es_atlas = [0.1]*10  # statistical; TODO: consider systematic"
   ]
  },
  {
   "cell_type": "code",
   "execution_count": 19,
   "metadata": {},
   "outputs": [
    {
     "name": "stdout",
     "output_type": "stream",
     "text": [
      "Reference source std: 0.0004935249639076021 Jy, 0.00027038668606275723 Jy\n"
     ]
    }
   ],
   "source": [
    "# peak flux\n",
    "# source 0, near 14:18:51.48  +39:44:25.58, outside j1419 \n",
    "# 4.1 mJy in FIRST, 4.1 mJy in NVSS\n",
    "s_atlas_ref0 = [0.003219, 0.003383, 0.003152, 0.004070, 0.004415, 0.003036, 0.003942, 0.004381, 0.004058, 0.003445]\n",
    "es_atlas_ref0 = [0.000196, 0.000286, 0.000176, 0.000206, 0.000210, 0.000199, 0.000210, 0.000206, 0.000178, 0.000175]\n",
    "# source 1, near 14:20:06.34  +39:35:03.30, inside j1419\n",
    "# 3 mJy in FIRST, 10 mJy in NVSS\n",
    "s_atlas_ref1 = [0.007826, 0.008621, 0.007838, 0.008036, 0.007630, 0.007718, 0.007869, 0.007774, 0.007653, 0.007843]\n",
    "es_atlas_ref1 = [0.000086, 0.000121, 0.000082, 0.000107, 0.000100, 0.000105, 0.000099,  0.000094, 0.000084, 0.000078]\n",
    "\n",
    "# integrated flux\n",
    "#s_atlas_ref0 = [0.004648, 0.007208, 0.004246, 0.005711, 0.005975, 0.004799, 0.006187, 0.006000, 0.005622, 0.004654]\n",
    "#es_atlas_ref0 = [0.000330, 0.000735, 0.000277, 0.000336, 0.000330, 0.000369, 0.000385, 0.000330, 0.000288, 0.000275]\n",
    "# source 1, near 14:20:06.34  +39:35:03.30, inside j1419\n",
    "#s_atlas_ref1 = [0.011440, 0.019431, 0.011554, 0.011678, 0.010822, 0.011715, 0.011411, 0.011118, 0.011160, 0.011266]\n",
    "#es_atlas_ref1 = [0.000145, 0.000317, 0.000140, 0.000180, 0.000165, 0.000185, 0.000167, 0.000156, 0.000142, 0.000131]\n",
    "\n",
    "es_sys_ref0 = np.std(s_atlas_ref0)\n",
    "es_sys_ref1 = np.std(s_atlas_ref1)\n",
    "\n",
    "print(\"Reference source std: {0} Jy, {1} Jy\".format(es_sys_ref0, es_sys_ref1))"
   ]
  },
  {
   "cell_type": "code",
   "execution_count": 20,
   "metadata": {},
   "outputs": [
    {
     "data": {
      "image/png": "[encoded data removed]",
      "text/plain": [
       "<Figure size 864x576 with 1 Axes>"
      ]
     },
     "metadata": {},
     "output_type": "display_data"
    }
   ],
   "source": [
    "with quantity_support():\n",
    "    fig = plt.figure(figsize=(12,8))\n",
    "    plt.errorbar(t_atlas*u.year, s_atlas*u.milliJansky, yerr=es_atlas*u.milliJansky, fmt='k.')\n",
    "    plt.errorbar(t_atlas*u.year, s_atlas_ref0*u.Jansky, yerr=es_atlas_ref0*u.milliJansky, fmt='r.')\n",
    "    plt.errorbar(t_atlas*u.year, s_atlas_ref1*u.Jansky, yerr=es_atlas_ref1*u.milliJansky, fmt='b.')"
   ]
  },
  {
   "cell_type": "code",
   "execution_count": 21,
   "metadata": {},
   "outputs": [],
   "source": [
    "# redefine atlas error to include estimated systematic value added in quadrature\n",
    "es_atlas = [np.sqrt(0.1**2 + (1e3*es_sys_ref0)**2)]*10"
   ]
  },
  {
   "cell_type": "markdown",
   "metadata": {},
   "source": [
    "#### Spectral index limits"
   ]
  },
  {
   "cell_type": "code",
   "execution_count": 22,
   "metadata": {},
   "outputs": [
    {
     "name": "stdout",
     "output_type": "stream",
     "text": [
      "Upper limit from non-simultaneous 1.4 to 3 GHz spectral index: -5.174011512810275 and -4.448243564580627\n",
      "Lower limit from simultaneous 0.325 to 1.4 GHz spectral index: -1.436674251937369\n"
     ]
    }
   ],
   "source": [
    "alpha_fv = np.log10(s_first/s_vlass)/np.log10(f_first/f_vlass)\n",
    "alpha_ffL = np.log10(s_first/s_farnesS)/np.log10(f_first/f_farnesS)\n",
    "\n",
    "print(\"Upper limit from non-simultaneous 1.4 to 3 GHz spectral index: {0} and {1}\".format(alpha_fv, alpha_ffL))\n",
    "print(\"Lower limit from simultaneous 0.325 to 1.4 GHz spectral index: {0}\".format(alpha_ab6860))"
   ]
  },
  {
   "cell_type": "markdown",
   "metadata": {},
   "source": [
    "#### ATA nondetection"
   ]
  },
  {
   "cell_type": "code",
   "execution_count": 23,
   "metadata": {},
   "outputs": [],
   "source": [
    "# atats survey\n",
    "t_ata = astropy.time.Time('2009-02-15').decimalyear  # epochs from jan - april\n",
    "f_ata = 1.43  # GHz\n",
    "s_ata = 12  # mJy; 3sigma limit"
   ]
  },
  {
   "cell_type": "markdown",
   "metadata": {},
   "source": [
    "#### Low-frequency non-detections\n",
    "* 74 MHz from VLSSr: https://heasarc.gsfc.nasa.gov/W3Browse/radio-catalog/vlssr.html\n",
    "* 150 MHz from TGSS: http://tgssadr.strw.leidenuniv.nl/doku.php?id=spidx\n",
    "* 325 MHz from WENSS: https://heasarc.gsfc.nasa.gov/w3browse/all/wenss.html"
   ]
  },
  {
   "cell_type": "code",
   "execution_count": 24,
   "metadata": {},
   "outputs": [
    {
     "name": "stdout",
     "output_type": "stream",
     "text": [
      "Lower limit from non-simultaneous 0.325/1.4 GHz: 0.5726401838027741\n"
     ]
    }
   ],
   "source": [
    "t_vlssr = astropy.time.Time('2005-03-14').decimalyear\n",
    "f_vlssr = 74e-3\n",
    "s_vlssr = 3*130   # mJy; nominal 3 sigma limit\n",
    "\n",
    "t_tgss = astropy.time.Time('2011-04-16').decimalyear\n",
    "f_tgss = 150e-3  # GHz\n",
    "s_tgss = 3*10.  # mJy; nominal 3 sigma limit\n",
    "\n",
    "t_wenss = astropy.time.Time('1994-04-25').decimalyear  # 1994-03-28 to 1994-05-22\n",
    "f_wenss = 325e-3  # GHz\n",
    "s_wenss = 9 # mJy; 3 sigma limit from FITS image\n",
    "\n",
    "alpha_fw = np.log10(s_first/s_wenss)/np.log10(f_first/f_wenss)\n",
    "print('Lower limit from non-simultaneous 0.325/1.4 GHz: {0}'.format(alpha_fw))"
   ]
  },
  {
   "cell_type": "markdown",
   "metadata": {},
   "source": [
    "Other potential data sets to analyze:\n",
    "* ~~VLA AS0249 (L-band, A-config, 86-Apr-11) -- earlier L-band really important~~ Bandwidth smearing\n",
    "* ~~VLA AB0573 (L-band, CD-config, 91-Feb-08) -- earlier L-band really important~~ Falls on primary beam null\n",
    "* ~~VLA AB6860 (L-band, D-config, 93-Nov-13) -- early L band~~ *detection! no flux cal*\n",
    "* ~~VLA AB0806 (L-band, A-config, 96-Nov-14) -- late L-band~~ (seems way offset)\n",
    "* ~~VLA AL0485 (L-band, D-config, 99-Apr-13) -- late L-band~~ (seems way offset)\n",
    "* ~~VLA 12B-361 (L-band, A-config, 12-Dec-24) -- late L-band~~ (more than 20' off)\n",
    "* ~~VLA 15A-033~~ (L and S-band from Jamie Farnes; detections!)\n",
    "* ~~WSRT ATLAS-3d~~ (L-band from Tom Osterloo; detections!)"
   ]
  },
  {
   "cell_type": "markdown",
   "metadata": {},
   "source": [
    "## Lightcurve and specta visualizations"
   ]
  },
  {
   "cell_type": "code",
   "execution_count": 40,
   "metadata": {
    "scrolled": false
   },
   "outputs": [
    {
     "data": {
      "image/png": "[encoded data removed]",
      "text/plain": [
       "<Figure size 864x576 with 2 Axes>"
      ]
     },
     "metadata": {},
     "output_type": "display_data"
    },
    {
     "data": {
      "image/png": "[encoded data removed]",
      "text/plain": [
       "<Figure size 576x576 with 1 Axes>"
      ]
     },
     "metadata": {},
     "output_type": "display_data"
    }
   ],
   "source": [
    "# omit vlssr (not constraining and throws off plot)\n",
    "plt.rcParams.update({'font.size': 18})\n",
    "\n",
    "with quantity_support():\n",
    "    fig = plt.figure(figsize=(12,8))\n",
    "    # fluxes\n",
    "    plt.plot([t_tgss, t_wenss, t_ab6860]*u.year,\n",
    "                 [s_tgss, s_wenss, s_ab6860P]*u.milliJansky,\n",
    "                 'rv', markersize=12, label=\"<=0.35 GHz\")  # 150 MHz\n",
    "    plt.errorbar([t_ab6860, t_first, t_nvss, t_farnes]*u.year,\n",
    "                 [s_ab6860, s_first, s_nvss, s_farnesL]*u.milliJansky,\n",
    "                 markersize=12,\n",
    "                 yerr=[es_ab6860, es_first, es_nvss, es_farnesL]*u.milliJansky, fmt='y.',\n",
    "                 label=\"1.4 GHz\")  # 1.4 GHz\n",
    "    plt.plot(t_ata, s_ata*u.milliJansky, 'yv', markersize=12)  # 3 GHz\n",
    "    plt.errorbar(t_atlas*u.year, s_atlas*u.milliJansky, yerr=es_atlas*u.milliJansky, markersize=12, fmt='y.')\n",
    "    plt.errorbar([t_farnes]*u.year,\n",
    "                 [s_farnesS]*u.milliJansky,\n",
    "                 yerr=[es_farnesS]*u.milliJansky, fmt='c.', markersize=12,\n",
    "                 label=\"3 GHz\")  # 3 GHz\n",
    "    plt.plot([t_vlass]*u.year, [s_vlass]*u.milliJansky, 'cv', markersize=12)  # 3 GHz\n",
    "    plt.legend(loc=3)\n",
    "    plt.ylim(0, 35)\n",
    "    \n",
    "    left, bottom, width, height = [0.3, 0.4, 0.58, 0.4]\n",
    "    ax2 = fig.add_axes([left, bottom, width, height])\n",
    "    ax2.plot([t_tgss, t_wenss, t_ab6860]*u.year,\n",
    "                 [s_tgss, s_wenss, s_ab6860P]*u.milliJansky,\n",
    "                 'rv', markersize=12, label=\"<=0.35 GHz\")  # 150 MHz\n",
    "    ax2.errorbar([t_ab6860, t_first, t_nvss, t_farnes]*u.year,\n",
    "                 [s_ab6860, s_first, s_nvss, s_farnesL]*u.milliJansky,\n",
    "                 markersize=12, yerr=[es_ab6860, es_first, es_nvss, es_farnesL]*u.milliJansky, fmt='y.',\n",
    "                 label=\"1.4 GHz\")  # 1.4 GHz\n",
    "    ax2.errorbar(t_atlas*u.year, s_atlas*u.milliJansky, yerr=es_atlas*u.milliJansky, markersize=12, fmt='y.')\n",
    "    ax2.errorbar([t_farnes]*u.year,\n",
    "                 [s_farnesS]*u.milliJansky,\n",
    "                 yerr=[es_farnesS]*u.milliJansky, markersize=12, fmt='c.',\n",
    "                 label=\"3 GHz\")  # 3 GHz\n",
    "    ax2.plot([t_vlass]*u.year, [s_vlass]*u.milliJansky, 'cv', markersize=12)  # 3 GHz\n",
    "    ax2.set_xlim(2008, 2018.4)\n",
    "    ax2.set_ylim(0, 3.5)\n",
    "    ax2.xaxis.tick_top()\n",
    "    ax2.xaxis.set_label_position('top') \n",
    "    plt.savefig(\"fluxlc_j1419.pdf\", format=\"pdf\")\n",
    "\n",
    "    plt.figure(figsize=(8,8))\n",
    "#    plt.subplot(122)\n",
    "    # alphas\n",
    "    plt.plot([t_ab6860, t_wenss], [alpha_ab6860, alpha_fw], 'r^', label=\"0.35 to 1.4 GHz\")\n",
    "    plt.errorbar([t_farnes], [alpha_farnesLL], yerr=[ealpha_farnesLL], fmt='y.', label=\"1.4 GHz\")\n",
    "    plt.errorbar([t_farnes], [alpha_farnesSS], yerr=[ealpha_farnesSS], fmt='c.', label=\"3.0 GHz\")\n",
    "    plt.xlabel(\"yr\", fontsize=20)\n",
    "    plt.ylabel(\"Spectral Index\", fontsize=20)\n",
    "    plt.legend()\n",
    "    plt.savefig(\"alphalc_j1419.pdf\", format=\"pdf\")"
   ]
  },
  {
   "cell_type": "code",
   "execution_count": 26,
   "metadata": {
    "scrolled": true
   },
   "outputs": [
    {
     "data": {
      "image/png": "[encoded data removed]",
      "text/plain": [
       "<Figure size 1080x360 with 1 Axes>"
      ]
     },
     "metadata": {},
     "output_type": "display_data"
    }
   ],
   "source": [
    "with quantity_support():\n",
    "    plt.figure(figsize=(15,5))\n",
    "    plt.errorbar([f_ab6860, f_first, f_nvss, f_farnesL_bottom, f_farnesL_top]*u.GHz,\n",
    "                 [s_ab6860, s_first, s_nvss, s_farnesL_bottom, s_farnesL_top]*u.milliJansky,\n",
    "                 yerr=[es_ab6860, es_first, es_nvss, es_farnesL_bottom, es_farnesL_top]*u.milliJansky, fmt='y.')  # 1.4 GHz\n",
    "    plt.errorbar([f_farnesS_bottom, f_farnesS_top]*u.GHz,\n",
    "                 [s_farnesS_bottom, s_farnesS_top]*u.milliJansky,\n",
    "                 yerr=[es_farnesS_bottom, es_farnesS_top]*u.milliJansky, fmt='c.')  # 3 GHz\n",
    "    plt.plot([f_vlass]*u.GHz, [s_vlass]*u.milliJansky, 'cv')  # 3 GHz\n",
    "    plt.plot([f_tgss, f_wenss, f_ab6860P]*u.GHz, [s_tgss, s_wenss, s_ab6860P]*u.milliJansky, 'rv')  # low freqs"
   ]
  },
  {
   "cell_type": "markdown",
   "metadata": {},
   "source": [
    "## Radio supernova modeling\n",
    "\n",
    "#### It is really luminous"
   ]
  },
  {
   "cell_type": "code",
   "execution_count": 27,
   "metadata": {},
   "outputs": [
    {
     "name": "stdout",
     "output_type": "stream",
     "text": [
      "*Minimum* radio luminosity: L=1.9202171679269813e+29 erg/s/Hz, nuLnu = 2.6883040350977737e+38 erg/s (nuLnu_Farnes = 1.5738939367736606e+37 erg/s)\n"
     ]
    }
   ],
   "source": [
    "co = cosmo.Planck15\n",
    "d_lum = co.luminosity_distance(0.01957)\n",
    "lum_minL = (s_first*1e-3)*1e-23 * 4*np.pi*d_lum.to_value(u.cm)**2\n",
    "lum_farnesL = (s_farnesL*1e-3)*1e-23 * 4*np.pi*d_lum.to_value(u.cm)**2\n",
    "nulnu_min = lum_minL*f_first*1e9\n",
    "nulnu_farnesL = lum_farnesL*f_farnesL*1e9\n",
    "print(\"*Minimum* radio luminosity: L={0} erg/s/Hz, nuLnu = {1} erg/s (nuLnu_Farnes = {2} erg/s)\"\n",
    "      .format(lum_minL, nulnu_min, nulnu_farnesL))\n"
   ]
  },
  {
   "cell_type": "code",
   "execution_count": 28,
   "metadata": {},
   "outputs": [],
   "source": [
    "getlum = lambda sjy: sjy*1e-23 * 4 * np.pi * co.luminosity_distance(0.01957).to_value(u.cm)**2"
   ]
  },
  {
   "cell_type": "markdown",
   "metadata": {},
   "source": [
    "#### Some useful functions"
   ]
  },
  {
   "cell_type": "code",
   "execution_count": 29,
   "metadata": {},
   "outputs": [],
   "source": [
    "def lc_fong(fp, t0, tdec, p=2.4):\n",
    "    \"\"\" Lightcurve as in Fong et al (2018).\n",
    "    Short GRB from NS-NS merger.\n",
    "    https://arxiv.org/pdf/1607.00416.pdf\n",
    "    \"\"\"\n",
    "\n",
    "    timearr = np.linspace(t_ab6860, t_vlass, 100)\n",
    "    fluxarr = np.zeros_like(timearr)\n",
    "\n",
    "    # early evolution\n",
    "    t1 = np.where(timearr-t0 < tdec)\n",
    "    fluxarr[t1] = fp*((timearr[t1]-t0)/tdec)**3\n",
    "\n",
    "    # late evolution\n",
    "    t2 = np.where(timearr-t0 >= tdec)\n",
    "    fluxarr[t2] = fp*((timearr[t2]-t0)/tdec)**-((15*p-21)/10)\n",
    "\n",
    "    return timearr, fluxarr\n",
    "\n",
    "def lc_margalit(D, nu, t0):\n",
    "    \"\"\" Decaying lightcurve of magnetar powered supernova\n",
    "    Referenced to FRB 121102 persistent source.\n",
    "    D in Gpc, nu in GHz, t in yrs.\n",
    "    assumes alpha=0 and vej=1e9, t_repeater = 30\n",
    "    \"\"\"\n",
    "    \n",
    "    timearr = np.linspace(t_ab6860, t_vlass, 100)\n",
    "    fluxarr = np.zeros_like(timearr)\n",
    "\n",
    "    fluxarr = 240e-6 * D**(-2) * (nu/10)**(1/3) * (30/(timearr-t0))\n",
    "    \n",
    "    return timearr, fluxarr\n",
    "\n",
    "def lc_plaw(f0, t0, alpha):\n",
    "    \"\"\" General powerlaw lightcurve\n",
    "    \"\"\"\n",
    "\n",
    "    timearr = np.linspace(t_ab6860, t_vlass, 100)\n",
    "    fluxarr = np.zeros_like(timearr)\n",
    "\n",
    "    fluxarr = f0 * (timearr - t0)**alpha\n",
    "    return timearr, fluxarr\n",
    "\n",
    "def lc_exp(f0, t0, dt):\n",
    "    \"\"\" General powerlaw lightcurve\n",
    "    \"\"\"\n",
    "\n",
    "    timearr = np.linspace(t_ab6860, t_vlass, 100)\n",
    "    fluxarr = np.zeros_like(timearr)\n",
    "\n",
    "    fluxarr = f0 * np.exp(-(timearr - t0)/dt)\n",
    "    return timearr, fluxarr"
   ]
  },
  {
   "cell_type": "markdown",
   "metadata": {},
   "source": [
    "#### Published models"
   ]
  },
  {
   "cell_type": "code",
   "execution_count": 30,
   "metadata": {},
   "outputs": [],
   "source": [
    "# explosion time\n",
    "t0 = t_ab6860-2"
   ]
  },
  {
   "cell_type": "code",
   "execution_count": 31,
   "metadata": {
    "scrolled": false
   },
   "outputs": [
    {
     "name": "stderr",
     "output_type": "stream",
     "text": [
      "/Users/caseyjlaw/anaconda/envs/py36/lib/python3.6/site-packages/ipykernel/__main__.py:3: ParserWarning: Falling back to the 'python' engine because the 'c' engine does not support regex separators (separators > 1 char and different from '\\s+' are interpreted as regex); you can avoid this warning by specifying engine='python'.\n",
      "  app.launch_new_instance()\n",
      "/Users/caseyjlaw/anaconda/envs/py36/lib/python3.6/site-packages/ipykernel/__main__.py:8: ParserWarning: Falling back to the 'python' engine because the 'c' engine does not support regex separators (separators > 1 char and different from '\\s+' are interpreted as regex); you can avoid this warning by specifying engine='python'.\n"
     ]
    },
    {
     "data": {
      "text/html": [
       "<div>\n",
       "<style scoped>\n",
       "    .dataframe tbody tr th:only-of-type {\n",
       "        vertical-align: middle;\n",
       "    }\n",
       "\n",
       "    .dataframe tbody tr th {\n",
       "        vertical-align: top;\n",
       "    }\n",
       "\n",
       "    .dataframe thead th {\n",
       "        text-align: right;\n",
       "    }\n",
       "</style>\n",
       "<table border=\"1\" class=\"dataframe\">\n",
       "  <thead>\n",
       "    <tr style=\"text-align: right;\">\n",
       "      <th></th>\n",
       "      <th>time</th>\n",
       "      <th>1.00E+09</th>\n",
       "      <th>3.30E+09</th>\n",
       "      <th>1.00E+10</th>\n",
       "      <th>3.30E+10</th>\n",
       "      <th>1.00E+11</th>\n",
       "      <th>3.30E+11</th>\n",
       "      <th>1.00E+12</th>\n",
       "      <th>3.30E+12</th>\n",
       "      <th>1.00E+13</th>\n",
       "      <th>...</th>\n",
       "      <th>1.00E+14</th>\n",
       "      <th>3.30E+14</th>\n",
       "      <th>4.56E+14</th>\n",
       "      <th>1.00E+15</th>\n",
       "      <th>3.30E+15</th>\n",
       "      <th>1.00E+16</th>\n",
       "      <th>3.30E+16</th>\n",
       "      <th>1.00E+17</th>\n",
       "      <th>3.30E+17</th>\n",
       "      <th>1.00E+18</th>\n",
       "    </tr>\n",
       "  </thead>\n",
       "  <tbody>\n",
       "    <tr>\n",
       "      <th>0</th>\n",
       "      <td>2160.0</td>\n",
       "      <td>0.0</td>\n",
       "      <td>0.0</td>\n",
       "      <td>0.0</td>\n",
       "      <td>0.0</td>\n",
       "      <td>0.0</td>\n",
       "      <td>0.0</td>\n",
       "      <td>0.0</td>\n",
       "      <td>0.0</td>\n",
       "      <td>0.0</td>\n",
       "      <td>...</td>\n",
       "      <td>0.0</td>\n",
       "      <td>0.0</td>\n",
       "      <td>0.0</td>\n",
       "      <td>0.0</td>\n",
       "      <td>0.0</td>\n",
       "      <td>0.0</td>\n",
       "      <td>0.0</td>\n",
       "      <td>0.0</td>\n",
       "      <td>0.0</td>\n",
       "      <td>0.0</td>\n",
       "    </tr>\n",
       "    <tr>\n",
       "      <th>1</th>\n",
       "      <td>6486.0</td>\n",
       "      <td>0.0</td>\n",
       "      <td>0.0</td>\n",
       "      <td>0.0</td>\n",
       "      <td>0.0</td>\n",
       "      <td>0.0</td>\n",
       "      <td>0.0</td>\n",
       "      <td>0.0</td>\n",
       "      <td>0.0</td>\n",
       "      <td>0.0</td>\n",
       "      <td>...</td>\n",
       "      <td>0.0</td>\n",
       "      <td>0.0</td>\n",
       "      <td>0.0</td>\n",
       "      <td>0.0</td>\n",
       "      <td>0.0</td>\n",
       "      <td>0.0</td>\n",
       "      <td>0.0</td>\n",
       "      <td>0.0</td>\n",
       "      <td>0.0</td>\n",
       "      <td>0.0</td>\n",
       "    </tr>\n",
       "    <tr>\n",
       "      <th>2</th>\n",
       "      <td>10830.0</td>\n",
       "      <td>0.0</td>\n",
       "      <td>0.0</td>\n",
       "      <td>0.0</td>\n",
       "      <td>0.0</td>\n",
       "      <td>0.0</td>\n",
       "      <td>0.0</td>\n",
       "      <td>0.0</td>\n",
       "      <td>0.0</td>\n",
       "      <td>0.0</td>\n",
       "      <td>...</td>\n",
       "      <td>0.0</td>\n",
       "      <td>0.0</td>\n",
       "      <td>0.0</td>\n",
       "      <td>0.0</td>\n",
       "      <td>0.0</td>\n",
       "      <td>0.0</td>\n",
       "      <td>0.0</td>\n",
       "      <td>0.0</td>\n",
       "      <td>0.0</td>\n",
       "      <td>0.0</td>\n",
       "    </tr>\n",
       "    <tr>\n",
       "      <th>3</th>\n",
       "      <td>15180.0</td>\n",
       "      <td>0.0</td>\n",
       "      <td>0.0</td>\n",
       "      <td>0.0</td>\n",
       "      <td>0.0</td>\n",
       "      <td>0.0</td>\n",
       "      <td>0.0</td>\n",
       "      <td>0.0</td>\n",
       "      <td>0.0</td>\n",
       "      <td>0.0</td>\n",
       "      <td>...</td>\n",
       "      <td>0.0</td>\n",
       "      <td>0.0</td>\n",
       "      <td>0.0</td>\n",
       "      <td>0.0</td>\n",
       "      <td>0.0</td>\n",
       "      <td>0.0</td>\n",
       "      <td>0.0</td>\n",
       "      <td>0.0</td>\n",
       "      <td>0.0</td>\n",
       "      <td>0.0</td>\n",
       "    </tr>\n",
       "    <tr>\n",
       "      <th>4</th>\n",
       "      <td>19540.0</td>\n",
       "      <td>0.0</td>\n",
       "      <td>0.0</td>\n",
       "      <td>0.0</td>\n",
       "      <td>0.0</td>\n",
       "      <td>0.0</td>\n",
       "      <td>0.0</td>\n",
       "      <td>0.0</td>\n",
       "      <td>0.0</td>\n",
       "      <td>0.0</td>\n",
       "      <td>...</td>\n",
       "      <td>0.0</td>\n",
       "      <td>0.0</td>\n",
       "      <td>0.0</td>\n",
       "      <td>0.0</td>\n",
       "      <td>0.0</td>\n",
       "      <td>0.0</td>\n",
       "      <td>0.0</td>\n",
       "      <td>0.0</td>\n",
       "      <td>0.0</td>\n",
       "      <td>0.0</td>\n",
       "    </tr>\n",
       "  </tbody>\n",
       "</table>\n",
       "<p>5 rows × 21 columns</p>\n",
       "</div>"
      ],
      "text/plain": [
       "      time  1.00E+09  3.30E+09  1.00E+10  3.30E+10  1.00E+11  3.30E+11  \\\n",
       "0   2160.0       0.0       0.0       0.0       0.0       0.0       0.0   \n",
       "1   6486.0       0.0       0.0       0.0       0.0       0.0       0.0   \n",
       "2  10830.0       0.0       0.0       0.0       0.0       0.0       0.0   \n",
       "3  15180.0       0.0       0.0       0.0       0.0       0.0       0.0   \n",
       "4  19540.0       0.0       0.0       0.0       0.0       0.0       0.0   \n",
       "\n",
       "   1.00E+12  3.30E+12  1.00E+13    ...     1.00E+14  3.30E+14  4.56E+14  \\\n",
       "0       0.0       0.0       0.0    ...          0.0       0.0       0.0   \n",
       "1       0.0       0.0       0.0    ...          0.0       0.0       0.0   \n",
       "2       0.0       0.0       0.0    ...          0.0       0.0       0.0   \n",
       "3       0.0       0.0       0.0    ...          0.0       0.0       0.0   \n",
       "4       0.0       0.0       0.0    ...          0.0       0.0       0.0   \n",
       "\n",
       "   1.00E+15  3.30E+15  1.00E+16  3.30E+16  1.00E+17  3.30E+17  1.00E+18  \n",
       "0       0.0       0.0       0.0       0.0       0.0       0.0       0.0  \n",
       "1       0.0       0.0       0.0       0.0       0.0       0.0       0.0  \n",
       "2       0.0       0.0       0.0       0.0       0.0       0.0       0.0  \n",
       "3       0.0       0.0       0.0       0.0       0.0       0.0       0.0  \n",
       "4       0.0       0.0       0.0       0.0       0.0       0.0       0.0  \n",
       "\n",
       "[5 rows x 21 columns]"
      ]
     },
     "execution_count": 31,
     "metadata": {},
     "output_type": "execute_result"
    }
   ],
   "source": [
    "# van Eerten models (\"afterglow library\")\n",
    "# E_K= 2e51, n_0 = 1/cm3\n",
    "lgrb0 = pd.read_table(\"model_lgrb_vla0d80.txt\", sep='  ', comment='#', names=['days', 'flux', 'flux_forward'])\n",
    "\n",
    "t_lgrb0 = lgrb0.days\n",
    "s_lgrb0 = lgrb0.flux*1.5e3*3\n",
    "\n",
    "lgrb1 = pd.read_table(\"model_lgrb_vla1d57.txt\", sep='  ', comment='#', names=['days', 'flux', 'flux_forward'])\n",
    "\n",
    "t_lgrb1 = lgrb1.days\n",
    "s_lgrb1 = lgrb1.flux*1.5e3*3\n",
    "\n",
    "names = \"time  1.00E+09  3.30E+09  1.00E+10  3.30E+10  1.00E+11  3.30E+11  1.00E+12  3.30E+12  1.00E+13  3.30E+13  1.00E+14  3.30E+14  4.56E+14  1.00E+15  3.30E+15  1.00E+16  3.30E+16  1.00E+17  3.30E+17  1.00E+18\".split(\"  \")\n",
    "lgrb_fwd = pd.read_table(\"model_lgrb_onfwd.txt\", sep=' ', comment='#', names=names)\n",
    "lgrb_ctr = pd.read_table(\"model_lgrb_onctr.txt\", sep=' ', comment='#', names=names)\n",
    "lgrb_ctr.head()"
   ]
  },
  {
   "cell_type": "code",
   "execution_count": 32,
   "metadata": {},
   "outputs": [],
   "source": [
    "# time in days, flux in Jy (forward and counter jet)\n",
    "t_lgrb_on = lgrb_fwd.time/(24*3600)\n",
    "s_lgrb_on = 1.5e3 * (lgrb_fwd['1.00E+09'] + lgrb_ctr['1.00E+09']) / 1e-23 * u.Jansky"
   ]
  },
  {
   "cell_type": "code",
   "execution_count": 33,
   "metadata": {},
   "outputs": [],
   "source": [
    "# Sironi model with \"deep Newtonian\" correction\n",
    "# n_e = 10/cm3, E_K=3e51\n",
    "# 0.8 rad off-axis\n",
    "scale = (2.5e27/d_lum.to_value(u.cm))**2\n",
    "lgrb08_14 = pd.read_table(\"lightcurve_th0.8_1.4GHz.txt\", sep=',', comment='#', names=['i', 'days', 'hz', 'mjy'])\n",
    "t_lgrb08_14 = lgrb08_14.days.tolist()\n",
    "s_lgrb08_14 = (lgrb08_14.mjy * scale).tolist()\n",
    "lgrb08_035 = pd.read_table(\"lightcurve_th0.8_0.35GHz.txt\", sep=',', comment='#', names=['i', 'days', 'hz', 'mjy'])\n",
    "t_lgrb08_035 = lgrb08_035.days.tolist()\n",
    "s_lgrb08_035 = (lgrb08_035.mjy * scale).tolist()"
   ]
  },
  {
   "cell_type": "code",
   "execution_count": 34,
   "metadata": {},
   "outputs": [],
   "source": [
    "# 1.57 rad off-axis with sironi et al deep newtonian modification\n",
    "lgrb157_14 = pd.read_table(\"lightcurve_th1.57_1.4GHz.txt\", sep=',', comment='#', names=['i', 'days', 'hz', 'mjy'])\n",
    "t_lgrb157_14 = lgrb157_14.days.tolist()\n",
    "s_lgrb157_14 = (lgrb157_14.mjy * scale).tolist()\n",
    "lgrb157_035 = pd.read_table(\"lightcurve_th1.57_0.35GHz.txt\", sep=',', comment='#', names=['i', 'days', 'hz', 'mjy'])\n",
    "t_lgrb157_035 = lgrb157_035.days.tolist()\n",
    "s_lgrb157_035 = (lgrb157_035.mjy * scale).tolist()"
   ]
  },
  {
   "cell_type": "code",
   "execution_count": 35,
   "metadata": {
    "scrolled": false
   },
   "outputs": [
    {
     "data": {
      "image/png": "[encoded data removed]",
      "text/plain": [
       "<Figure size 864x576 with 1 Axes>"
      ]
     },
     "metadata": {},
     "output_type": "display_data"
    }
   ],
   "source": [
    "with quantity_support():\n",
    "    fig = plt.figure(figsize=(12,8))\n",
    "\n",
    "    # data\n",
    "    plt.plot(([t_tgss-t0, t_wenss-t0, t_ab6860-t0]*u.year).to_value(u.day),\n",
    "                 [s_tgss, s_wenss, s_ab6860P]*u.milliJansky,\n",
    "                 'rv', markersize=12, label=\"<=0.35 GHz\")  # 150 MHz\n",
    "    plt.errorbar(([t_ab6860-t0, t_first-t0, t_nvss-t0, t_farnes-t0]*u.year).to_value(u.day),\n",
    "                 [s_ab6860, s_first, s_nvss, s_farnesL]*u.milliJansky,\n",
    "                 markersize=12,\n",
    "                 yerr=[es_ab6860, es_first, es_nvss, es_farnesL]*u.milliJansky, fmt='y.',\n",
    "                 label=\"1.4 GHz\")  # 1.4 GHz\n",
    "    plt.plot((t_ata*u.year-t0*u.year).to_value(u.day), s_ata*u.milliJansky, 'yv', markersize=12)  # 3 GHz\n",
    "    plt.errorbar(((t_atlas*u.year) - t0*u.year).to_value(u.day), s_atlas*u.milliJansky, yerr=es_atlas*u.milliJansky, markersize=12, fmt='y.')\n",
    "    plt.errorbar(([t_farnes-t0]*u.year).to_value(u.day),\n",
    "                 [s_farnesS]*u.milliJansky,\n",
    "                 yerr=[es_farnesS]*u.milliJansky, fmt='c.', markersize=12,\n",
    "                 label=\"3 GHz\")  # 3 GHz\n",
    "    plt.plot(([t_vlass-t0]*u.year).to_value(u.day), [s_vlass]*u.milliJansky, 'cv', markersize=12)  # 3 GHz\n",
    "\n",
    "    # van Eerten models\n",
    "    plt.plot(t_lgrb_on*u.day, s_lgrb_on, 'k', label=\"1 GHz, On-axis LGRB (van Eerten)\")\n",
    "    plt.plot(t_lgrb0*u.day, s_lgrb0, 'k--', label=\"1 GHz, 0.8 off LGRB (van Eerten)\")\n",
    "    plt.plot(t_lgrb1*u.day, s_lgrb1, 'k-.', label=\"1 GHz, 1.57 off LGRB (van Eerten)\")\n",
    "\n",
    "    # Sironi models\n",
    "    plt.plot(t_lgrb08_14*u.day, s_lgrb08_14, 'y-', label=\"1.4 GHz, 0.8 off LGRB (Sironi)\")\n",
    "    plt.plot(t_lgrb157_14*u.day, s_lgrb157_14, 'y.', label=\"1.4 GHz, 1.57 off LGRB (Sironi)\")\n",
    "    plt.plot(t_lgrb08_035*u.day, s_lgrb08_035, 'r-', label=\"0.35 GHz, 0.8 off LGRB (Sironi)\")\n",
    "    plt.plot(t_lgrb157_035*u.day, s_lgrb157_035, 'r.', label=\"0.35 GHz, 1.57 off LGRB (Sironi)\")\n",
    "\n",
    "    plt.loglog()\n",
    "    plt.legend(fontsize=16)\n",
    "    plt.xlabel(\"Days since explosion\")\n",
    "    plt.xlim((t_ab6860-t0-1)*365.24, (t_vlass-t0+7)*365.24)\n",
    "    plt.ylim(2e-1, 1e4)\n",
    "    plt.savefig(\"models_j1419.pdf\", format=\"pdf\")"
   ]
  },
  {
   "cell_type": "markdown",
   "metadata": {},
   "source": [
    "#### Luminosity and time scale consistent with GRB or even more energetic phenomenon!"
   ]
  },
  {
   "cell_type": "code",
   "execution_count": 36,
   "metadata": {},
   "outputs": [
    {
     "data": {
      "image/png": "[encoded data removed]",
      "text/plain": [
       "<Figure size 720x576 with 1 Axes>"
      ]
     },
     "metadata": {},
     "output_type": "display_data"
    }
   ],
   "source": [
    "# playing with Metzger et al (2015) plot\n",
    "\n",
    "fig = plt.figure(figsize=(10,8))\n",
    "plt.plot(500, 3e29, 'r.', markersize=14, label=\"Off-axis LGRB\")\n",
    "plt.plot(60, 1e30, 'c*', markersize=14, label=\"On-axis LGRB\")\n",
    "plt.plot(700, 9e30, 'gp', markersize=14, label=\"TDE\")\n",
    "plt.plot(1000, 5e30, 'rx', markersize=14, label=\"Magnetar SNe\")\n",
    "plt.plot(100, 2e26, 'ys', markersize=14, label=\"RSN\")\n",
    "plt.fill_between(np.arange(365, 5*365, 10), lum_minL, 3e31, label=\"J141918+394036\", alpha=0.3)\n",
    "plt.xlim(10, 4500)\n",
    "plt.ylim(1e26, 3e31)\n",
    "plt.loglog()\n",
    "plt.xlabel(\"dt (days)\", fontsize=14)\n",
    "plt.ylabel(\"Luminosity (erg/s/Hz)\", fontsize=14)\n",
    "plt.legend(fontsize=14, loc=4)\n",
    "plt.savefig(\"ldt_j1419.pdf\", format=\"pdf\")"
   ]
  },
  {
   "cell_type": "markdown",
   "metadata": {},
   "source": [
    "## Checking BATSE\n",
    "Search of heasarc prior to earliest radio measurement plausible association. Of course, a radio signal can be seen without an GRB, so need to consider chance coincidence more carefully.\n",
    "\n",
    "An LGRB:\n",
    "* trigger 927, GRB 911024\n",
    "* RA=13 54.6 Dec=+38 22\n",
    "* Time=1991-10-24\n",
    "* Error radius 4.13 deg and offset=5 deg\n",
    "\n",
    "More info:\n",
    "* https://heasarc.gsfc.nasa.gov/FTP/compton/data/batse/trigger/00801_01000/00927_burst/\n",
    "* https://heasarc.gsfc.nasa.gov/docs/cgro/batse/BATSE_Ctlg/html/927.html"
   ]
  },
  {
   "cell_type": "markdown",
   "metadata": {},
   "source": [
    "## Useful References"
   ]
  },
  {
   "cell_type": "markdown",
   "metadata": {},
   "source": [
    "* Brunthaler et al radio discovery of SN in M82: https://arxiv.org/pdf/0904.2388.pdf\n",
    "* Metzger, Williams and Berger on rates and lightcurves of radio transients: https://arxiv.org/pdf/1502.01350.pdf\n",
    "* Fong et al on sGRB radio afterglows: https://arxiv.org/pdf/1502.01350.pdf\n",
    "* Margalit et al on magnetar unification: https://arxiv.org/pdf/1806.05690.pdf"
   ]
  },
  {
   "cell_type": "code",
   "execution_count": null,
   "metadata": {},
   "outputs": [],
   "source": []
  }
 ],
 "metadata": {
  "kernelspec": {
   "display_name": "Python [conda env:py36]",
   "language": "python",
   "name": "conda-env-py36-py"
  },
  "language_info": {
   "codemirror_mode": {
    "name": "ipython",
    "version": 3
   },
   "file_extension": ".py",
   "mimetype": "text/x-python",
   "name": "python",
   "nbconvert_exporter": "python",
   "pygments_lexer": "ipython3",
   "version": "3.6.5"
  }
 },
 "nbformat": 4,
 "nbformat_minor": 2
}
